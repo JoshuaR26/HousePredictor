{
 "cells": [
  {
   "cell_type": "markdown",
   "id": "b818242d-9510-485f-8127-1acfb37f6138",
   "metadata": {},
   "source": [
    "### Importing Dependencies"
   ]
  },
  {
   "cell_type": "code",
   "execution_count": 3,
   "id": "7c0afed6-2cdb-414b-84e7-ab54102a2cb5",
   "metadata": {},
   "outputs": [],
   "source": [
    "import numpy as np\n",
    "import pandas as pd\n",
    "import matplotlib.pylab as plt"
   ]
  },
  {
   "cell_type": "code",
   "execution_count": 4,
   "id": "61347889-d9a7-4d2a-a590-2a8e5fb88bc5",
   "metadata": {},
   "outputs": [],
   "source": [
    "from sklearn.datasets import fetch_california_housing"
   ]
  },
  {
   "cell_type": "code",
   "execution_count": 6,
   "id": "20f846f3-782a-4b14-969f-d754576759ac",
   "metadata": {},
   "outputs": [],
   "source": [
    "data = fetch_california_housing()"
   ]
  },
  {
   "cell_type": "code",
   "execution_count": 8,
   "id": "1e0eaeaa-881b-484c-beb0-3c53b6267890",
   "metadata": {
    "scrolled": true
   },
   "outputs": [
    {
     "name": "stdout",
     "output_type": "stream",
     "text": [
      ".. _california_housing_dataset:\n",
      "\n",
      "California Housing dataset\n",
      "--------------------------\n",
      "\n",
      "**Data Set Characteristics:**\n",
      "\n",
      "    :Number of Instances: 20640\n",
      "\n",
      "    :Number of Attributes: 8 numeric, predictive attributes and the target\n",
      "\n",
      "    :Attribute Information:\n",
      "        - MedInc        median income in block group\n",
      "        - HouseAge      median house age in block group\n",
      "        - AveRooms      average number of rooms per household\n",
      "        - AveBedrms     average number of bedrooms per household\n",
      "        - Population    block group population\n",
      "        - AveOccup      average number of household members\n",
      "        - Latitude      block group latitude\n",
      "        - Longitude     block group longitude\n",
      "\n",
      "    :Missing Attribute Values: None\n",
      "\n",
      "This dataset was obtained from the StatLib repository.\n",
      "https://www.dcc.fc.up.pt/~ltorgo/Regression/cal_housing.html\n",
      "\n",
      "The target variable is the median house value for California districts,\n",
      "expressed in hundreds of thousands of dollars ($100,000).\n",
      "\n",
      "This dataset was derived from the 1990 U.S. census, using one row per census\n",
      "block group. A block group is the smallest geographical unit for which the U.S.\n",
      "Census Bureau publishes sample data (a block group typically has a population\n",
      "of 600 to 3,000 people).\n",
      "\n",
      "A household is a group of people residing within a home. Since the average\n",
      "number of rooms and bedrooms in this dataset are provided per household, these\n",
      "columns may take surprisingly large values for block groups with few households\n",
      "and many empty houses, such as vacation resorts.\n",
      "\n",
      "It can be downloaded/loaded using the\n",
      ":func:`sklearn.datasets.fetch_california_housing` function.\n",
      "\n",
      ".. topic:: References\n",
      "\n",
      "    - Pace, R. Kelley and Ronald Barry, Sparse Spatial Autoregressions,\n",
      "      Statistics and Probability Letters, 33 (1997) 291-297\n",
      "\n"
     ]
    }
   ],
   "source": [
    "print(data.DESCR)"
   ]
  },
  {
   "cell_type": "code",
   "execution_count": 30,
   "id": "fc28356f-8cec-498e-a9a4-7eddf4db61de",
   "metadata": {},
   "outputs": [
    {
     "data": {
      "text/html": [
       "<div>\n",
       "<style scoped>\n",
       "    .dataframe tbody tr th:only-of-type {\n",
       "        vertical-align: middle;\n",
       "    }\n",
       "\n",
       "    .dataframe tbody tr th {\n",
       "        vertical-align: top;\n",
       "    }\n",
       "\n",
       "    .dataframe thead th {\n",
       "        text-align: right;\n",
       "    }\n",
       "</style>\n",
       "<table border=\"1\" class=\"dataframe\">\n",
       "  <thead>\n",
       "    <tr style=\"text-align: right;\">\n",
       "      <th></th>\n",
       "      <th>MedInc</th>\n",
       "      <th>HouseAge</th>\n",
       "      <th>AveRooms</th>\n",
       "      <th>AveBedrms</th>\n",
       "      <th>Population</th>\n",
       "      <th>AveOccup</th>\n",
       "      <th>Latitude</th>\n",
       "      <th>Longitude</th>\n",
       "    </tr>\n",
       "  </thead>\n",
       "  <tbody>\n",
       "    <tr>\n",
       "      <th>0</th>\n",
       "      <td>8.3252</td>\n",
       "      <td>41.0</td>\n",
       "      <td>6.984127</td>\n",
       "      <td>1.023810</td>\n",
       "      <td>322.0</td>\n",
       "      <td>2.555556</td>\n",
       "      <td>37.88</td>\n",
       "      <td>-122.23</td>\n",
       "    </tr>\n",
       "    <tr>\n",
       "      <th>1</th>\n",
       "      <td>8.3014</td>\n",
       "      <td>21.0</td>\n",
       "      <td>6.238137</td>\n",
       "      <td>0.971880</td>\n",
       "      <td>2401.0</td>\n",
       "      <td>2.109842</td>\n",
       "      <td>37.86</td>\n",
       "      <td>-122.22</td>\n",
       "    </tr>\n",
       "    <tr>\n",
       "      <th>2</th>\n",
       "      <td>7.2574</td>\n",
       "      <td>52.0</td>\n",
       "      <td>8.288136</td>\n",
       "      <td>1.073446</td>\n",
       "      <td>496.0</td>\n",
       "      <td>2.802260</td>\n",
       "      <td>37.85</td>\n",
       "      <td>-122.24</td>\n",
       "    </tr>\n",
       "    <tr>\n",
       "      <th>3</th>\n",
       "      <td>5.6431</td>\n",
       "      <td>52.0</td>\n",
       "      <td>5.817352</td>\n",
       "      <td>1.073059</td>\n",
       "      <td>558.0</td>\n",
       "      <td>2.547945</td>\n",
       "      <td>37.85</td>\n",
       "      <td>-122.25</td>\n",
       "    </tr>\n",
       "    <tr>\n",
       "      <th>4</th>\n",
       "      <td>3.8462</td>\n",
       "      <td>52.0</td>\n",
       "      <td>6.281853</td>\n",
       "      <td>1.081081</td>\n",
       "      <td>565.0</td>\n",
       "      <td>2.181467</td>\n",
       "      <td>37.85</td>\n",
       "      <td>-122.25</td>\n",
       "    </tr>\n",
       "  </tbody>\n",
       "</table>\n",
       "</div>"
      ],
      "text/plain": [
       "   MedInc  HouseAge  AveRooms  AveBedrms  Population  AveOccup  Latitude  \\\n",
       "0  8.3252      41.0  6.984127   1.023810       322.0  2.555556     37.88   \n",
       "1  8.3014      21.0  6.238137   0.971880      2401.0  2.109842     37.86   \n",
       "2  7.2574      52.0  8.288136   1.073446       496.0  2.802260     37.85   \n",
       "3  5.6431      52.0  5.817352   1.073059       558.0  2.547945     37.85   \n",
       "4  3.8462      52.0  6.281853   1.081081       565.0  2.181467     37.85   \n",
       "\n",
       "   Longitude  \n",
       "0    -122.23  \n",
       "1    -122.22  \n",
       "2    -122.24  \n",
       "3    -122.25  \n",
       "4    -122.25  "
      ]
     },
     "execution_count": 30,
     "metadata": {},
     "output_type": "execute_result"
    }
   ],
   "source": [
    "# Independent Data\n",
    "df = pd.DataFrame(data = data.data, columns = data.feature_names)\n",
    "df.head()"
   ]
  },
  {
   "cell_type": "code",
   "execution_count": 20,
   "id": "955a2e90-88b4-4cce-90d1-6e2158d546b8",
   "metadata": {
    "scrolled": true
   },
   "outputs": [
    {
     "data": {
      "text/plain": [
       "(20640, 8)"
      ]
     },
     "execution_count": 20,
     "metadata": {},
     "output_type": "execute_result"
    }
   ],
   "source": [
    "df.shape"
   ]
  },
  {
   "cell_type": "code",
   "execution_count": 31,
   "id": "c084ab24-53c6-42c0-9725-0597ad05625c",
   "metadata": {},
   "outputs": [],
   "source": [
    "# Dependent Data\n",
    "df['Target'] = data.target"
   ]
  },
  {
   "cell_type": "code",
   "execution_count": 32,
   "id": "8e978775-44a0-4103-b76d-72fe8a28248c",
   "metadata": {},
   "outputs": [
    {
     "data": {
      "text/html": [
       "<div>\n",
       "<style scoped>\n",
       "    .dataframe tbody tr th:only-of-type {\n",
       "        vertical-align: middle;\n",
       "    }\n",
       "\n",
       "    .dataframe tbody tr th {\n",
       "        vertical-align: top;\n",
       "    }\n",
       "\n",
       "    .dataframe thead th {\n",
       "        text-align: right;\n",
       "    }\n",
       "</style>\n",
       "<table border=\"1\" class=\"dataframe\">\n",
       "  <thead>\n",
       "    <tr style=\"text-align: right;\">\n",
       "      <th></th>\n",
       "      <th>MedInc</th>\n",
       "      <th>HouseAge</th>\n",
       "      <th>AveRooms</th>\n",
       "      <th>AveBedrms</th>\n",
       "      <th>Population</th>\n",
       "      <th>AveOccup</th>\n",
       "      <th>Latitude</th>\n",
       "      <th>Longitude</th>\n",
       "      <th>Target</th>\n",
       "    </tr>\n",
       "  </thead>\n",
       "  <tbody>\n",
       "    <tr>\n",
       "      <th>0</th>\n",
       "      <td>8.3252</td>\n",
       "      <td>41.0</td>\n",
       "      <td>6.984127</td>\n",
       "      <td>1.023810</td>\n",
       "      <td>322.0</td>\n",
       "      <td>2.555556</td>\n",
       "      <td>37.88</td>\n",
       "      <td>-122.23</td>\n",
       "      <td>4.526</td>\n",
       "    </tr>\n",
       "    <tr>\n",
       "      <th>1</th>\n",
       "      <td>8.3014</td>\n",
       "      <td>21.0</td>\n",
       "      <td>6.238137</td>\n",
       "      <td>0.971880</td>\n",
       "      <td>2401.0</td>\n",
       "      <td>2.109842</td>\n",
       "      <td>37.86</td>\n",
       "      <td>-122.22</td>\n",
       "      <td>3.585</td>\n",
       "    </tr>\n",
       "    <tr>\n",
       "      <th>2</th>\n",
       "      <td>7.2574</td>\n",
       "      <td>52.0</td>\n",
       "      <td>8.288136</td>\n",
       "      <td>1.073446</td>\n",
       "      <td>496.0</td>\n",
       "      <td>2.802260</td>\n",
       "      <td>37.85</td>\n",
       "      <td>-122.24</td>\n",
       "      <td>3.521</td>\n",
       "    </tr>\n",
       "    <tr>\n",
       "      <th>3</th>\n",
       "      <td>5.6431</td>\n",
       "      <td>52.0</td>\n",
       "      <td>5.817352</td>\n",
       "      <td>1.073059</td>\n",
       "      <td>558.0</td>\n",
       "      <td>2.547945</td>\n",
       "      <td>37.85</td>\n",
       "      <td>-122.25</td>\n",
       "      <td>3.413</td>\n",
       "    </tr>\n",
       "    <tr>\n",
       "      <th>4</th>\n",
       "      <td>3.8462</td>\n",
       "      <td>52.0</td>\n",
       "      <td>6.281853</td>\n",
       "      <td>1.081081</td>\n",
       "      <td>565.0</td>\n",
       "      <td>2.181467</td>\n",
       "      <td>37.85</td>\n",
       "      <td>-122.25</td>\n",
       "      <td>3.422</td>\n",
       "    </tr>\n",
       "  </tbody>\n",
       "</table>\n",
       "</div>"
      ],
      "text/plain": [
       "   MedInc  HouseAge  AveRooms  AveBedrms  Population  AveOccup  Latitude  \\\n",
       "0  8.3252      41.0  6.984127   1.023810       322.0  2.555556     37.88   \n",
       "1  8.3014      21.0  6.238137   0.971880      2401.0  2.109842     37.86   \n",
       "2  7.2574      52.0  8.288136   1.073446       496.0  2.802260     37.85   \n",
       "3  5.6431      52.0  5.817352   1.073059       558.0  2.547945     37.85   \n",
       "4  3.8462      52.0  6.281853   1.081081       565.0  2.181467     37.85   \n",
       "\n",
       "   Longitude  Target  \n",
       "0    -122.23   4.526  \n",
       "1    -122.22   3.585  \n",
       "2    -122.24   3.521  \n",
       "3    -122.25   3.413  \n",
       "4    -122.25   3.422  "
      ]
     },
     "execution_count": 32,
     "metadata": {},
     "output_type": "execute_result"
    }
   ],
   "source": [
    "df.head()"
   ]
  },
  {
   "cell_type": "markdown",
   "id": "a8a32193-373a-47cf-a721-4d11c629cb4e",
   "metadata": {},
   "source": [
    "### EDA"
   ]
  },
  {
   "cell_type": "code",
   "execution_count": 33,
   "id": "77bc057a-150d-444a-b3f6-96747838e1b1",
   "metadata": {
    "scrolled": true
   },
   "outputs": [
    {
     "name": "stdout",
     "output_type": "stream",
     "text": [
      "Defaulting to user installation because normal site-packages is not writeable\n",
      "Collecting sweetviz\n",
      "  Obtaining dependency information for sweetviz from https://files.pythonhosted.org/packages/89/50/8d3f7ca820267a38b42c64778db0f186d85cec6e3f0c5210eab9c16e783f/sweetviz-2.3.1-py3-none-any.whl.metadata\n",
      "  Downloading sweetviz-2.3.1-py3-none-any.whl.metadata (24 kB)\n",
      "Requirement already satisfied: pandas!=1.0.0,!=1.0.1,!=1.0.2,>=0.25.3 in c:\\users\\joshu\\appdata\\roaming\\python\\python310\\site-packages (from sweetviz) (2.1.1)\n",
      "Requirement already satisfied: numpy>=1.16.0 in c:\\users\\joshu\\appdata\\roaming\\python\\python310\\site-packages (from sweetviz) (1.25.2)\n",
      "Requirement already satisfied: matplotlib>=3.1.3 in c:\\users\\joshu\\appdata\\roaming\\python\\python310\\site-packages (from sweetviz) (3.7.2)\n",
      "Requirement already satisfied: tqdm>=4.43.0 in c:\\users\\joshu\\appdata\\roaming\\python\\python310\\site-packages (from sweetviz) (4.66.1)\n",
      "Requirement already satisfied: scipy>=1.3.2 in c:\\users\\joshu\\appdata\\roaming\\python\\python310\\site-packages (from sweetviz) (1.11.2)\n",
      "Requirement already satisfied: jinja2>=2.11.1 in c:\\users\\joshu\\appdata\\roaming\\python\\python310\\site-packages (from sweetviz) (3.1.2)\n",
      "Collecting importlib-resources>=1.2.0 (from sweetviz)\n",
      "  Obtaining dependency information for importlib-resources>=1.2.0 from https://files.pythonhosted.org/packages/93/e8/facde510585869b5ec694e8e0363ffe4eba067cb357a8398a55f6a1f8023/importlib_resources-6.1.1-py3-none-any.whl.metadata\n",
      "  Downloading importlib_resources-6.1.1-py3-none-any.whl.metadata (4.1 kB)\n",
      "Requirement already satisfied: MarkupSafe>=2.0 in c:\\users\\joshu\\appdata\\roaming\\python\\python310\\site-packages (from jinja2>=2.11.1->sweetviz) (2.1.3)\n",
      "Requirement already satisfied: contourpy>=1.0.1 in c:\\users\\joshu\\appdata\\roaming\\python\\python310\\site-packages (from matplotlib>=3.1.3->sweetviz) (1.1.0)\n",
      "Requirement already satisfied: cycler>=0.10 in c:\\users\\joshu\\appdata\\roaming\\python\\python310\\site-packages (from matplotlib>=3.1.3->sweetviz) (0.11.0)\n",
      "Requirement already satisfied: fonttools>=4.22.0 in c:\\users\\joshu\\appdata\\roaming\\python\\python310\\site-packages (from matplotlib>=3.1.3->sweetviz) (4.42.1)\n",
      "Requirement already satisfied: kiwisolver>=1.0.1 in c:\\users\\joshu\\appdata\\roaming\\python\\python310\\site-packages (from matplotlib>=3.1.3->sweetviz) (1.4.5)\n",
      "Requirement already satisfied: packaging>=20.0 in c:\\users\\joshu\\appdata\\roaming\\python\\python310\\site-packages (from matplotlib>=3.1.3->sweetviz) (23.1)\n",
      "Requirement already satisfied: pillow>=6.2.0 in c:\\users\\joshu\\appdata\\roaming\\python\\python310\\site-packages (from matplotlib>=3.1.3->sweetviz) (10.0.0)\n",
      "Requirement already satisfied: pyparsing<3.1,>=2.3.1 in c:\\users\\joshu\\appdata\\roaming\\python\\python310\\site-packages (from matplotlib>=3.1.3->sweetviz) (3.0.9)\n",
      "Requirement already satisfied: python-dateutil>=2.7 in c:\\users\\joshu\\appdata\\roaming\\python\\python310\\site-packages (from matplotlib>=3.1.3->sweetviz) (2.8.2)\n",
      "Requirement already satisfied: pytz>=2020.1 in c:\\users\\joshu\\appdata\\roaming\\python\\python310\\site-packages (from pandas!=1.0.0,!=1.0.1,!=1.0.2,>=0.25.3->sweetviz) (2023.3.post1)\n",
      "Requirement already satisfied: tzdata>=2022.1 in c:\\users\\joshu\\appdata\\roaming\\python\\python310\\site-packages (from pandas!=1.0.0,!=1.0.1,!=1.0.2,>=0.25.3->sweetviz) (2023.3)\n",
      "Requirement already satisfied: colorama in c:\\users\\joshu\\appdata\\roaming\\python\\python310\\site-packages (from tqdm>=4.43.0->sweetviz) (0.3.9)\n",
      "Requirement already satisfied: six>=1.5 in c:\\users\\joshu\\appdata\\roaming\\python\\python310\\site-packages (from python-dateutil>=2.7->matplotlib>=3.1.3->sweetviz) (1.16.0)\n",
      "Downloading sweetviz-2.3.1-py3-none-any.whl (15.1 MB)\n",
      "   ---------------------------------------- 0.0/15.1 MB ? eta -:--:--\n",
      "   ---------------------------------------- 0.2/15.1 MB 5.0 MB/s eta 0:00:04\n",
      "   - -------------------------------------- 0.5/15.1 MB 7.1 MB/s eta 0:00:03\n",
      "   - -------------------------------------- 0.5/15.1 MB 7.1 MB/s eta 0:00:03\n",
      "   --- ------------------------------------ 1.2/15.1 MB 6.7 MB/s eta 0:00:03\n",
      "   --- ------------------------------------ 1.4/15.1 MB 6.6 MB/s eta 0:00:03\n",
      "   ----- ---------------------------------- 2.0/15.1 MB 7.4 MB/s eta 0:00:02\n",
      "   ----- ---------------------------------- 2.2/15.1 MB 7.2 MB/s eta 0:00:02\n",
      "   ------ --------------------------------- 2.5/15.1 MB 7.0 MB/s eta 0:00:02\n",
      "   ------- -------------------------------- 2.7/15.1 MB 6.9 MB/s eta 0:00:02\n",
      "   ------- -------------------------------- 2.9/15.1 MB 6.6 MB/s eta 0:00:02\n",
      "   -------- ------------------------------- 3.1/15.1 MB 6.6 MB/s eta 0:00:02\n",
      "   -------- ------------------------------- 3.1/15.1 MB 6.1 MB/s eta 0:00:02\n",
      "   -------- ------------------------------- 3.4/15.1 MB 6.0 MB/s eta 0:00:02\n",
      "   --------- ------------------------------ 3.6/15.1 MB 5.7 MB/s eta 0:00:03\n",
      "   --------- ------------------------------ 3.7/15.1 MB 5.6 MB/s eta 0:00:03\n",
      "   ---------- ----------------------------- 3.9/15.1 MB 5.5 MB/s eta 0:00:03\n",
      "   ---------- ----------------------------- 4.0/15.1 MB 5.3 MB/s eta 0:00:03\n",
      "   ---------- ----------------------------- 4.1/15.1 MB 5.2 MB/s eta 0:00:03\n",
      "   ----------- ---------------------------- 4.3/15.1 MB 5.1 MB/s eta 0:00:03\n",
      "   ----------- ---------------------------- 4.4/15.1 MB 5.1 MB/s eta 0:00:03\n",
      "   ------------ --------------------------- 4.6/15.1 MB 5.1 MB/s eta 0:00:03\n",
      "   ------------ --------------------------- 4.8/15.1 MB 4.9 MB/s eta 0:00:03\n",
      "   ------------ --------------------------- 4.9/15.1 MB 4.9 MB/s eta 0:00:03\n",
      "   ------------- -------------------------- 5.1/15.1 MB 4.8 MB/s eta 0:00:03\n",
      "   ------------- -------------------------- 5.2/15.1 MB 4.8 MB/s eta 0:00:03\n",
      "   -------------- ------------------------- 5.4/15.1 MB 4.7 MB/s eta 0:00:03\n",
      "   -------------- ------------------------- 5.5/15.1 MB 4.6 MB/s eta 0:00:03\n",
      "   --------------- ------------------------ 5.7/15.1 MB 4.6 MB/s eta 0:00:03\n",
      "   --------------- ------------------------ 5.8/15.1 MB 4.6 MB/s eta 0:00:03\n",
      "   --------------- ------------------------ 6.0/15.1 MB 4.6 MB/s eta 0:00:02\n",
      "   ---------------- ----------------------- 6.2/15.1 MB 4.5 MB/s eta 0:00:02\n",
      "   ---------------- ----------------------- 6.3/15.1 MB 4.5 MB/s eta 0:00:02\n",
      "   ----------------- ---------------------- 6.6/15.1 MB 4.5 MB/s eta 0:00:02\n",
      "   ----------------- ---------------------- 6.7/15.1 MB 4.5 MB/s eta 0:00:02\n",
      "   ------------------ --------------------- 6.9/15.1 MB 4.4 MB/s eta 0:00:02\n",
      "   ------------------ --------------------- 7.1/15.1 MB 4.4 MB/s eta 0:00:02\n",
      "   ------------------- -------------------- 7.2/15.1 MB 4.4 MB/s eta 0:00:02\n",
      "   ------------------- -------------------- 7.4/15.1 MB 4.4 MB/s eta 0:00:02\n",
      "   -------------------- ------------------- 7.6/15.1 MB 4.4 MB/s eta 0:00:02\n",
      "   -------------------- ------------------- 7.7/15.1 MB 4.3 MB/s eta 0:00:02\n",
      "   -------------------- ------------------- 7.8/15.1 MB 4.3 MB/s eta 0:00:02\n",
      "   --------------------- ------------------ 7.9/15.1 MB 4.3 MB/s eta 0:00:02\n",
      "   --------------------- ------------------ 8.1/15.1 MB 4.3 MB/s eta 0:00:02\n",
      "   --------------------- ------------------ 8.3/15.1 MB 4.2 MB/s eta 0:00:02\n",
      "   ---------------------- ----------------- 8.4/15.1 MB 4.3 MB/s eta 0:00:02\n",
      "   ---------------------- ----------------- 8.7/15.1 MB 4.3 MB/s eta 0:00:02\n",
      "   ----------------------- ---------------- 8.8/15.1 MB 4.2 MB/s eta 0:00:02\n",
      "   ----------------------- ---------------- 9.0/15.1 MB 4.2 MB/s eta 0:00:02\n",
      "   ------------------------ --------------- 9.2/15.1 MB 4.3 MB/s eta 0:00:02\n",
      "   ------------------------ --------------- 9.3/15.1 MB 4.2 MB/s eta 0:00:02\n",
      "   ------------------------- -------------- 9.5/15.1 MB 4.2 MB/s eta 0:00:02\n",
      "   ------------------------- -------------- 9.7/15.1 MB 4.3 MB/s eta 0:00:02\n",
      "   -------------------------- ------------- 9.9/15.1 MB 4.3 MB/s eta 0:00:02\n",
      "   -------------------------- ------------- 10.1/15.1 MB 4.3 MB/s eta 0:00:02\n",
      "   --------------------------- ------------ 10.3/15.1 MB 4.3 MB/s eta 0:00:02\n",
      "   --------------------------- ------------ 10.5/15.1 MB 4.3 MB/s eta 0:00:02\n",
      "   ---------------------------- ----------- 10.8/15.1 MB 4.3 MB/s eta 0:00:02\n",
      "   ----------------------------- ---------- 11.0/15.1 MB 4.2 MB/s eta 0:00:01\n",
      "   ----------------------------- ---------- 11.2/15.1 MB 4.2 MB/s eta 0:00:01\n",
      "   ------------------------------ --------- 11.5/15.1 MB 4.2 MB/s eta 0:00:01\n",
      "   ------------------------------- -------- 11.7/15.1 MB 4.1 MB/s eta 0:00:01\n",
      "   ------------------------------- -------- 11.9/15.1 MB 4.1 MB/s eta 0:00:01\n",
      "   -------------------------------- ------- 12.1/15.1 MB 4.1 MB/s eta 0:00:01\n",
      "   -------------------------------- ------- 12.4/15.1 MB 4.1 MB/s eta 0:00:01\n",
      "   --------------------------------- ------ 12.6/15.1 MB 4.1 MB/s eta 0:00:01\n",
      "   ---------------------------------- ----- 12.9/15.1 MB 4.1 MB/s eta 0:00:01\n",
      "   ---------------------------------- ----- 13.1/15.1 MB 4.1 MB/s eta 0:00:01\n",
      "   ----------------------------------- ---- 13.3/15.1 MB 4.0 MB/s eta 0:00:01\n",
      "   ----------------------------------- ---- 13.5/15.1 MB 4.1 MB/s eta 0:00:01\n",
      "   ------------------------------------ --- 13.8/15.1 MB 4.1 MB/s eta 0:00:01\n",
      "   ------------------------------------- -- 14.1/15.1 MB 4.2 MB/s eta 0:00:01\n",
      "   ------------------------------------- -- 14.3/15.1 MB 4.3 MB/s eta 0:00:01\n",
      "   -------------------------------------- - 14.6/15.1 MB 4.3 MB/s eta 0:00:01\n",
      "   ---------------------------------------  14.9/15.1 MB 4.4 MB/s eta 0:00:01\n",
      "   ---------------------------------------  15.1/15.1 MB 4.4 MB/s eta 0:00:01\n",
      "   ---------------------------------------- 15.1/15.1 MB 4.3 MB/s eta 0:00:00\n",
      "Downloading importlib_resources-6.1.1-py3-none-any.whl (33 kB)\n",
      "Installing collected packages: importlib-resources, sweetviz\n",
      "Successfully installed importlib-resources-6.1.1 sweetviz-2.3.1\n"
     ]
    },
    {
     "name": "stderr",
     "output_type": "stream",
     "text": [
      "\n",
      "[notice] A new release of pip is available: 23.2.1 -> 23.3.2\n",
      "[notice] To update, run: python.exe -m pip install --upgrade pip\n"
     ]
    }
   ],
   "source": [
    "!pip install sweetviz"
   ]
  },
  {
   "cell_type": "code",
   "execution_count": 34,
   "id": "49c689f5-2785-418f-9f58-f524ce8faa89",
   "metadata": {},
   "outputs": [],
   "source": [
    "import sweetviz as sv"
   ]
  },
  {
   "cell_type": "code",
   "execution_count": 35,
   "id": "6b20126e-2205-4420-8c39-5a14321930be",
   "metadata": {},
   "outputs": [
    {
     "data": {
      "application/vnd.jupyter.widget-view+json": {
       "model_id": "27a13bfbccf04730a0a81e1eaf8209cf",
       "version_major": 2,
       "version_minor": 0
      },
      "text/plain": [
       "                                             |                                             | [  0%]   00:00 ->…"
      ]
     },
     "metadata": {},
     "output_type": "display_data"
    },
    {
     "name": "stdout",
     "output_type": "stream",
     "text": [
      "Report report.html was generated! NOTEBOOK/COLAB USERS: the web browser MAY not pop up, regardless, the report IS saved in your notebook/colab files.\n"
     ]
    }
   ],
   "source": [
    "report = sv.analyze(df)\n",
    "report.show_html('report.html')"
   ]
  },
  {
   "cell_type": "markdown",
   "id": "7e4811ab-102c-4494-969a-d4b790c9a5cd",
   "metadata": {},
   "source": [
    "### Data-Preprocessing"
   ]
  },
  {
   "cell_type": "code",
   "execution_count": 36,
   "id": "e50e175f-18d7-4451-a4aa-bd1f628c80e4",
   "metadata": {},
   "outputs": [
    {
     "name": "stdout",
     "output_type": "stream",
     "text": [
      "Defaulting to user installation because normal site-packages is not writeable\n",
      "Collecting geopy\n",
      "  Obtaining dependency information for geopy from https://files.pythonhosted.org/packages/e5/15/cf2a69ade4b194aa524ac75112d5caac37414b20a3a03e6865dfe0bd1539/geopy-2.4.1-py3-none-any.whl.metadata\n",
      "  Downloading geopy-2.4.1-py3-none-any.whl.metadata (6.8 kB)\n",
      "Collecting geographiclib<3,>=1.52 (from geopy)\n",
      "  Downloading geographiclib-2.0-py3-none-any.whl (40 kB)\n",
      "     ---------------------------------------- 0.0/40.3 kB ? eta -:--:--\n",
      "     ---------------------------------------- 40.3/40.3 kB 1.9 MB/s eta 0:00:00\n",
      "Downloading geopy-2.4.1-py3-none-any.whl (125 kB)\n",
      "   ---------------------------------------- 0.0/125.4 kB ? eta -:--:--\n",
      "   ---------------------------------------- 125.4/125.4 kB 7.7 MB/s eta 0:00:00\n",
      "Installing collected packages: geographiclib, geopy\n",
      "Successfully installed geographiclib-2.0 geopy-2.4.1\n"
     ]
    },
    {
     "name": "stderr",
     "output_type": "stream",
     "text": [
      "\n",
      "[notice] A new release of pip is available: 23.2.1 -> 23.3.2\n",
      "[notice] To update, run: python.exe -m pip install --upgrade pip\n"
     ]
    }
   ],
   "source": [
    "!pip install geopy"
   ]
  },
  {
   "cell_type": "code",
   "execution_count": 48,
   "id": "f6cbebfa-d8c8-4791-ba68-f61351a23787",
   "metadata": {},
   "outputs": [],
   "source": [
    "from geopy.geocoders import Nominatim"
   ]
  },
  {
   "cell_type": "code",
   "execution_count": 65,
   "id": "18bcb90d-999d-4585-9e98-17f8a539af38",
   "metadata": {},
   "outputs": [
    {
     "data": {
      "text/plain": [
       "{'leisure': 'Ecological Study Area',\n",
       " 'road': 'Vollmer Peak Trail',\n",
       " 'county': 'Contra Costa County',\n",
       " 'state': 'California',\n",
       " 'ISO3166-2-lvl4': 'US-CA',\n",
       " 'postcode': '94563',\n",
       " 'country': 'United States',\n",
       " 'country_code': 'us'}"
      ]
     },
     "execution_count": 65,
     "metadata": {},
     "output_type": "execute_result"
    }
   ],
   "source": [
    "geolocator = Nominatim(user_agent='joshua2009474@gmail.com')\n",
    "\n",
    "geolocator.reverse(\"37.88\"+\" , \"+\"-122.23\").raw['address']\n",
    "# Raw returns dictionary "
   ]
  },
  {
   "cell_type": "code",
   "execution_count": 69,
   "id": "1f874f81-5baa-475c-ab89-35b42bba3128",
   "metadata": {},
   "outputs": [],
   "source": [
    "def location(cord):\n",
    "    Lat = str(cord[0])\n",
    "    Long = str(cord[1])\n",
    "\n",
    "    location = geolocator.reverse(Lat+\",\"+Long).raw['address']\n",
    "\n",
    "    if location.get('road') is None:\n",
    "        location['road'] = None\n",
    "\n",
    "    if location.get('county') is None:\n",
    "        location['county'] = None\n",
    "\n",
    "    loc_update['County'].append(location['county'])\n",
    "    loc_update['Road'].append(location['road']) "
   ]
  },
  {
   "cell_type": "code",
   "execution_count": 71,
   "id": "4bc9bdf7-2827-4c51-aceb-09d4a9fb9a62",
   "metadata": {},
   "outputs": [],
   "source": [
    "# import pickle\n",
    "\n",
    "# loc_update = {'County':[],\n",
    "#               'Road':[]}\n",
    "\n",
    "# for i, cord in enumerate(df.iloc[:,6:-1].values):\n",
    "#     location(cord)\n",
    "#     pickle.dump(loc_update, open('loc_update.pickle', 'wb'))\n",
    "\n",
    "#     if i%100 == 0:\n",
    "#         print(i)"
   ]
  },
  {
   "cell_type": "code",
   "execution_count": null,
   "id": "372a8949-5d1b-4b69-8dad-591f4bd75d83",
   "metadata": {},
   "outputs": [],
   "source": []
  }
 ],
 "metadata": {
  "kernelspec": {
   "display_name": "Python 3 (ipykernel)",
   "language": "python",
   "name": "python3"
  },
  "language_info": {
   "codemirror_mode": {
    "name": "ipython",
    "version": 3
   },
   "file_extension": ".py",
   "mimetype": "text/x-python",
   "name": "python",
   "nbconvert_exporter": "python",
   "pygments_lexer": "ipython3",
   "version": "3.10.10"
  }
 },
 "nbformat": 4,
 "nbformat_minor": 5
}
